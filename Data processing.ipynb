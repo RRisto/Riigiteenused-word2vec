{
 "cells": [
  {
   "cell_type": "markdown",
   "metadata": {
    "collapsed": false
   },
   "source": [
    "## Andmete töötlemine"
   ]
  },
  {
   "cell_type": "code",
   "execution_count": 1,
   "metadata": {
    "collapsed": false
   },
   "outputs": [
    {
     "name": "stderr",
     "output_type": "stream",
     "text": [
      "Loading required package: data.table\n",
      "Warning message:\n",
      ": package 'data.table' was built under R version 3.2.5Loading required package: NLP\n"
     ]
    }
   ],
   "source": [
    "#skript on R-s: https://irkernel.github.io/\n",
    "library(riigiteenused)\n",
    "library(tm)\n",
    "setwd(\"C:\\\\Users\\\\Risto\\\\Documents\\\\Python Scripts\\\\riigiteenused_word2vec\")"
   ]
  },
  {
   "cell_type": "markdown",
   "metadata": {},
   "source": [
    "Laeme andmed alla, teeme teenuste nimedest ja kirjeldustest korpuse. Puhastame ja normaliseerime andmed."
   ]
  },
  {
   "cell_type": "code",
   "execution_count": 9,
   "metadata": {
    "collapsed": false
   },
   "outputs": [],
   "source": [
    "andmedLai=andmedSisse()\n",
    "nimetusKirjeldus=paste(andmedLai$nimetus,andmedLai$kirjeldus)\n",
    "korpus=Corpus(DataframeSource(data.frame(nimetusKirjeldus)))\n",
    "#teeme väiketähtedeks\n",
    "korpus <- tm_map(korpus, content_transformer(tolower))\n",
    "#eemaldame numbrid\n",
    "korpus <- tm_map(korpus, removeNumbers)\n",
    "#eemaldame kirjavahemärgid\n",
    "korpus <- tm_map(korpus, removePunctuation)\n",
    "#eemaldame sõnad, mis on mitte midagiütlevad, normaliseerime sõnu\n",
    "  toString <- content_transformer(function(x, from, to) gsub(from, to, x))\n",
    "  korpus <- tm_map(korpus, toString, \" ning | ja |või|võib| kui | aga | kes | kellel | oma | mis | on | kus |kohta|\n",
    "|olema|vaja|nii|selle|mille|kas|üle|mida|nende|ole|millisele\", \" \")\n",
    "  korpus <- tm_map(korpus, toString, \"loa\", \"luba\")\n",
    "  korpus <- tm_map(korpus, toString, \"äriühingu|äriühingutel\", \"äriühing\")\n",
    "  korpus <- tm_map(korpus, toString, \"äriregistr|äriregistri\", \"äriregister\")\n",
    "  korpus <- tm_map(korpus, toString, \"taotleda\", \"taotlemine\")\n",
    "  korpus <- tm_map(korpus, toString, \"avalike\", \"avaliku\")\n",
    "  korpus <- tm_map(korpus, toString, \"infot\", \"info\")\n",
    "  korpus <- tm_map(korpus, toString, \"hüpoteegi\", \"hüpoteek\")\n",
    "  korpus <- tm_map(korpus, toString, \"esitada\", \"esitamine\")\n",
    "  korpus <- tm_map(korpus, toString, \"aastaaruannete|aastaaruandeid|aastaaruande\", \"aastaaruanne\")\n",
    "  korpus <- tm_map(korpus, toString, \"aastal|aastaks|aastatest|aastatel|aastat|aastas\", \"aasta\")\n",
    "  korpus <- tm_map(korpus, toString, \"aastastele|aastaste|aastast|aastasi|aastasest|aastasele|aastaseid|aastase\", \"aastane\")\n",
    "  korpus <- tm_map(korpus, toString, \"aastaraamatud|aastaraamatus\", \"aastaraamat\")\n",
    "  korpus <- tm_map(korpus, toString, \"abieluvõimetõendi\", \"abieluvõimetõend\")\n",
    "  korpus <- tm_map(korpus, toString, \"abikaasade\", \"abikaasa\")\n",
    "  korpus <- tm_map(korpus, toString, \"abikaasade\", \"abikaasa\")\n",
    "#eemaldame liigsed tühikud\n",
    "korpus <- tm_map(korpus, stripWhitespace)\n",
    "#kirjutame tulemuse textfailina\n",
    "x=sapply(korpus$content,function(x) x[1])\n",
    "x2=paste(x, collapse = \" \")\n",
    "writeLines(x2, con=\"riigiteenused.txt\")"
   ]
  },
  {
   "cell_type": "markdown",
   "metadata": {},
   "source": [
    "Nüüd läheb huvitavaks. Kopeeri failist riigiteenused.txt kogu tekst siia:http://www.filosoft.ee/html_morf_et/html_morf.cgi. \n",
    "Analüüsi tekst ära ning kopeeri tabel excelisse. Sealt jätta alles ainult sõnade algvorm (tekst veergudesse funktsionaalsus).\n",
    "Seal, kus analüüsi tulemus oli ####, asenda ülevalpool oleva väärtusega. \n",
    "Seda saab teha ka kindlasti mugavamalt (näiteks estnltk paketiga), kuid kuna selle tööle saamine pole mul õnnestunud, kasutan\n",
    "seda koledat häkki. Tulem on failis lemmatiseeritud.xlsx. Teeme sellest tekstifaili, mis on word2vector mudelile \"söödav\"."
   ]
  },
  {
   "cell_type": "code",
   "execution_count": 14,
   "metadata": {
    "collapsed": false
   },
   "outputs": [],
   "source": [
    "library(readxl)\n",
    "lemma=read_excel(\"lemmatiseeritud.xlsx\")\n",
    "#hoiame alles ainult algvormid, mitte algteksti\n",
    "lemma=lemma[seq(1,nrow(lemma),2),]\n",
    "#eemaldame allkriipsud ja võrdusmärgid\n",
    "lemma=gsub(\"_|=|või \",\"\", lemma)\n",
    "#seemaldame üleliigsed tühikud\n",
    "trim <- function (x) gsub(\"^\\\\s+|\\\\s+$\", \"\", x)\n",
    "lemma=trim(lemma)\n",
    "lemma=paste(lemma, collapse = \" \")\n",
    "#mõned asendused  \n",
    "lemma=gsub(\"taotluse\", \"taotlus\", lemma)\n",
    "#salvesta\n",
    "writeLines(lemma, con=\"riigiteenused_mudelisse.txt\")"
   ]
  },
  {
   "cell_type": "markdown",
   "metadata": {},
   "source": [
    "Nüüd ava fail \"riigiteenused_mudelisse.txt\" notepad++ga ning Encoding->Convert to UTF-8-BOM ning salvesta. See muudab täpitähed pythoni mudeli jaoks \"söödavaks\"."
   ]
  }
 ],
 "metadata": {
  "anaconda-cloud": {},
  "kernelspec": {
   "display_name": "R",
   "language": "R",
   "name": "ir"
  },
  "language_info": {
   "codemirror_mode": "r",
   "file_extension": ".r",
   "mimetype": "text/x-r-source",
   "name": "R",
   "pygments_lexer": "r",
   "version": "3.2.4"
  }
 },
 "nbformat": 4,
 "nbformat_minor": 0
}
