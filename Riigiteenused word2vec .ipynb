{
 "cells": [
  {
   "cell_type": "markdown",
   "metadata": {},
   "source": [
    "## Mudeli ehitamine"
   ]
  },
  {
   "cell_type": "markdown",
   "metadata": {},
   "source": [
    "Nüüd alustame word2vec mudeli loomist. käivitame word2phrase, et grupeeriks sarnased sõnad (nt Loas Angeles oleks Los_Angeles)."
   ]
  },
  {
   "cell_type": "code",
   "execution_count": 2,
   "metadata": {
    "collapsed": false
   },
   "outputs": [
    {
     "name": "stdout",
     "output_type": "stream",
     "text": [
      "b'Starting training using file riigiteenused_mudelisse.txt\\r\\n'b'\\r\\n'b'Vocab size (unigrams + bigrams): 7154\\r\\n'b'Words in train file: 12394\\r\\n'"
     ]
    }
   ],
   "source": [
    "import word2vec\n",
    "word2vec.word2phrase('riigiteenused_mudelisse.txt', 'mudel/riigiteenused-phrases', verbose=True)   "
   ]
  },
  {
   "cell_type": "markdown",
   "metadata": {},
   "source": [
    "Eelmise sammu võib ka vahele jättan ing otse toorteksti mudelisse sööta. Treenime mudeli."
   ]
  },
  {
   "cell_type": "code",
   "execution_count": 3,
   "metadata": {
    "collapsed": false
   },
   "outputs": [
    {
     "name": "stdout",
     "output_type": "stream",
     "text": [
      "b'Starting training using file mudel/riigiteenused-phrases\\r\\n'b'Vocab size: 570\\r\\n'b'Words in train file: 7654\\r\\n'"
     ]
    }
   ],
   "source": [
    "word2vec.word2vec('mudel/riigiteenused-phrases', 'mudel/riigiteenused.bin', size=100, verbose=True)"
   ]
  },
  {
   "cell_type": "markdown",
   "metadata": {},
   "source": [
    "See genereeris \"riigiteenused.bin\" faili, mis sisaldab sõnavectoreid binaarformaadis. Nüüd teeme vektorite klastedamise treenitud mudeli põhjal."
   ]
  },
  {
   "cell_type": "code",
   "execution_count": 4,
   "metadata": {
    "collapsed": false
   },
   "outputs": [
    {
     "name": "stdout",
     "output_type": "stream",
     "text": [
      "b'Starting training using file riigiteenused_mudelisse.txt\\r\\n'b'Vocab size: 574\\r\\n'b'Words in train file: 7902\\r\\n'"
     ]
    }
   ],
   "source": [
    "word2vec.word2clusters('riigiteenused_mudelisse.txt', 'mudel/riigiteenused-clusters.txt', 100, verbose=True)"
   ]
  },
  {
   "cell_type": "markdown",
   "metadata": {},
   "source": [
    "See lõi faili \"riigiteenused-clusters.txt\", mis iga klastreid iga sõna jaoks. Laeme mudeli üles ning hakkame sellega töötama."
   ]
  },
  {
   "cell_type": "code",
   "execution_count": 5,
   "metadata": {
    "collapsed": true
   },
   "outputs": [],
   "source": [
    "model = word2vec.load('mudel/riigiteenused.bin')"
   ]
  },
  {
   "cell_type": "markdown",
   "metadata": {},
   "source": [
    "Nüüd saame näiteks iga sõna koosinuse sarnasuse leida."
   ]
  },
  {
   "cell_type": "code",
   "execution_count": 7,
   "metadata": {
    "collapsed": false
   },
   "outputs": [
    {
     "data": {
      "text/plain": [
       "[('teatamine', 0.29009538275919894),\n",
       " ('too', 0.2679329467989475),\n",
       " ('juriidiline_tagajärg', 0.2503037665336207),\n",
       " ('maa', 0.24770183542698532),\n",
       " ('ela', 0.2407197861337981),\n",
       " ('laev', 0.23539827072734315),\n",
       " ('päring', 0.23401616628885044),\n",
       " ('osutaja', 0.22805068479603405),\n",
       " ('saamine', 0.22012625895113597),\n",
       " ('laps', 0.21712019300066707)]"
      ]
     },
     "execution_count": 7,
     "metadata": {},
     "output_type": "execute_result"
    }
   ],
   "source": [
    "indexes, metrics = model.cosine('teenus')\n",
    "model.generate_response(indexes, metrics).tolist()"
   ]
  },
  {
   "cell_type": "markdown",
   "metadata": {},
   "source": [
    "## Analoogiad"
   ]
  },
  {
   "cell_type": "markdown",
   "metadata": {},
   "source": [
    "Nüüd läheb põnevamaks. Saame teha lihtsat aritmeetikat sõnadega. Mis jääb sõnast \"teenus\" alles kui sellest maha lahutada \"esitama\" ning liita sõna \"päring\"."
   ]
  },
  {
   "cell_type": "code",
   "execution_count": 15,
   "metadata": {
    "collapsed": false
   },
   "outputs": [
    {
     "data": {
      "text/plain": [
       "[('avalda', 0.18797967300023669),\n",
       " ('vastavus', 0.17150743262537507),\n",
       " ('avalikustamine', 0.16127968373872267),\n",
       " ('vastuta', 0.16107394398104938),\n",
       " ('väljaanne', 0.15996179825140733),\n",
       " ('maakataster', 0.1594734900967568),\n",
       " ('ühe', 0.15869540315057978),\n",
       " ('jagamine', 0.15500996061503447),\n",
       " ('lahendamine', 0.15490117643048185),\n",
       " ('süsteem', 0.1495121387624915)]"
      ]
     },
     "execution_count": 15,
     "metadata": {},
     "output_type": "execute_result"
    }
   ],
   "source": [
    "indexes, metrics = model.analogy(pos=['luba', 'litsents'], neg=['esitamine'], n=10)\n",
    "indexes, metrics\n",
    "model.generate_response(indexes, metrics).tolist()"
   ]
  },
  {
   "cell_type": "markdown",
   "metadata": {},
   "source": [
    "Klasterdamine"
   ]
  },
  {
   "cell_type": "code",
   "execution_count": 17,
   "metadata": {
    "collapsed": false
   },
   "outputs": [
    {
     "data": {
      "text/plain": [
       "array([b'alaealine', b'h\\xc3\\xbcpoteekga', b'm\\xc3\\xbc\\xc3\\xbck', b'aeg',\n",
       "       b'lahendamine'], dtype=object)"
      ]
     },
     "execution_count": 17,
     "metadata": {},
     "output_type": "execute_result"
    }
   ],
   "source": [
    "clusters = word2vec.load_clusters('mudel/riigiteenused-clusters.txt')\n",
    "clusters[b'teenus']\n",
    "clusters.get_words_on_cluster(90).shape\n",
    "clusters.get_words_on_cluster(90)[:10]"
   ]
  },
  {
   "cell_type": "markdown",
   "metadata": {},
   "source": [
    "## Visualiseerimine "
   ]
  },
  {
   "cell_type": "markdown",
   "metadata": {},
   "source": [
    "Visualiseerimine sõande sarnasusi ja erisusi. Selleks loome enne funktsiooni."
   ]
  },
  {
   "cell_type": "code",
   "execution_count": 18,
   "metadata": {
    "collapsed": true
   },
   "outputs": [],
   "source": [
    "from matplotlib import pylab\n",
    "from sklearn.decomposition import PCA\n",
    "\n",
    "def plot(words):\n",
    "    %matplotlib inline\n",
    "    embeddings = [model[w] for w in words]\n",
    "    \n",
    "    pca = PCA(n_components=2) \n",
    "    two_d_embeddings = pca.fit_transform(embeddings)\n",
    "    \n",
    "    pylab.figure(figsize=(5,5))  # in inches\n",
    "    for i, label in enumerate(words):\n",
    "        x, y = two_d_embeddings[i,:]\n",
    "        pylab.scatter(x, y)\n",
    "        pylab.annotate(label, xy=(x, y), xytext=(5, 2), textcoords='offset points', ha='right', va='bottom')\n",
    "        pylab.xlabel(\"principal component 1\")\n",
    "        pylab.ylabel(\"principal component 2\")\n",
    "    pylab.show()"
   ]
  },
  {
   "cell_type": "markdown",
   "metadata": {},
   "source": [
    "Visualiseerime need sõnad"
   ]
  },
  {
   "cell_type": "code",
   "execution_count": 24,
   "metadata": {
    "collapsed": false
   },
   "outputs": [
    {
     "data": {
      "image/png": "[encoded data removed]",
      "text/plain": [
       "<matplotlib.figure.Figure at 0x1bb41ece0b8>"
      ]
     },
     "metadata": {},
     "output_type": "display_data"
    }
   ],
   "source": [
    "plot(\"teenus taotlus luba registreerimine esitamine sertifikaat tõend litsents kontroll toetus\".split())"
   ]
  },
  {
   "cell_type": "markdown",
   "metadata": {},
   "source": [
    "Siit on näha, et tõendid ja load klassifitseerib ühte grupp (y-telje alumine osa). Eraldi klasterdab tegusõnad ja mõsite \"teenus\". Tundub et teenus on lähemal tegevusele, kui otsesele paberile."
   ]
  }
 ],
 "metadata": {
  "anaconda-cloud": {},
  "kernelspec": {
   "display_name": "Python [Root]",
   "language": "python",
   "name": "Python [Root]"
  },
  "language_info": {
   "codemirror_mode": {
    "name": "ipython",
    "version": 3
   },
   "file_extension": ".py",
   "mimetype": "text/x-python",
   "name": "python",
   "nbconvert_exporter": "python",
   "pygments_lexer": "ipython3",
   "version": "3.5.2"
  }
 },
 "nbformat": 4,
 "nbformat_minor": 0
}
